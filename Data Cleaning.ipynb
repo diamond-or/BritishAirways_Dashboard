{
 "cells": [
  {
   "cell_type": "code",
   "execution_count": 1,
   "id": "82613d1a",
   "metadata": {},
   "outputs": [],
   "source": [
    "#Import libraries for data processing \n",
    "\n",
    "import pandas as pd\n",
    "import csv"
   ]
  },
  {
   "cell_type": "markdown",
   "id": "b407f575",
   "metadata": {},
   "source": [
    "## BritishAirways Comma Seperated Value"
   ]
  },
  {
   "cell_type": "code",
   "execution_count": 33,
   "id": "d3dbc424",
   "metadata": {},
   "outputs": [],
   "source": [
    "#Reading csv files, such as British airways \n",
    "\n",
    "ba_reviews = pd.read_csv(\"ba_reviews.csv\")\n"
   ]
  },
  {
   "cell_type": "code",
   "execution_count": 30,
   "id": "1bf5c33b",
   "metadata": {},
   "outputs": [
    {
     "data": {
      "text/plain": [
       "header                 0\n",
       "author                 0\n",
       "date                   0\n",
       "place                  0\n",
       "content                0\n",
       "aircraft               0\n",
       "traveller_type         1\n",
       "seat_type              0\n",
       "route                  0\n",
       "date_flown             0\n",
       "recommended            0\n",
       "trip_verified          0\n",
       "rating                 0\n",
       "seat_comfort           0\n",
       "cabin_staff_service    0\n",
       "food_beverages         0\n",
       "ground_service         0\n",
       "value_for_money        0\n",
       "entertainment          0\n",
       "dtype: int64"
      ]
     },
     "execution_count": 30,
     "metadata": {},
     "output_type": "execute_result"
    }
   ],
   "source": [
    "#Applying isnull() to check null values in the dataframe and using sum() to see any total value in each column.\n",
    "\n",
    "ba_reviews.isnull().sum()"
   ]
  },
  {
   "cell_type": "code",
   "execution_count": 49,
   "id": "21cae801",
   "metadata": {},
   "outputs": [
    {
     "data": {
      "text/plain": [
       "header                 1324\n",
       "author                 1324\n",
       "date                   1324\n",
       "place                  1324\n",
       "content                1324\n",
       "aircraft               1324\n",
       "traveller_type         1323\n",
       "seat_type              1324\n",
       "route                  1324\n",
       "date_flown             1324\n",
       "recommended            1324\n",
       "trip_verified          1324\n",
       "rating                 1324\n",
       "seat_comfort           1324\n",
       "cabin_staff_service    1324\n",
       "food_beverages         1324\n",
       "ground_service         1324\n",
       "value_for_money        1324\n",
       "entertainment          1324\n",
       "dtype: int64"
      ]
     },
     "execution_count": 49,
     "metadata": {},
     "output_type": "execute_result"
    }
   ],
   "source": [
    "ba_reviews.count()"
   ]
  },
  {
   "cell_type": "code",
   "execution_count": 46,
   "id": "967a7356",
   "metadata": {
    "scrolled": true
   },
   "outputs": [
    {
     "data": {
      "text/html": [
       "<div>\n",
       "<style scoped>\n",
       "    .dataframe tbody tr th:only-of-type {\n",
       "        vertical-align: middle;\n",
       "    }\n",
       "\n",
       "    .dataframe tbody tr th {\n",
       "        vertical-align: top;\n",
       "    }\n",
       "\n",
       "    .dataframe thead th {\n",
       "        text-align: right;\n",
       "    }\n",
       "</style>\n",
       "<table border=\"1\" class=\"dataframe\">\n",
       "  <thead>\n",
       "    <tr style=\"text-align: right;\">\n",
       "      <th></th>\n",
       "      <th>header</th>\n",
       "      <th>author</th>\n",
       "      <th>date</th>\n",
       "      <th>place</th>\n",
       "      <th>content</th>\n",
       "      <th>aircraft</th>\n",
       "      <th>traveller_type</th>\n",
       "      <th>seat_type</th>\n",
       "      <th>route</th>\n",
       "      <th>date_flown</th>\n",
       "      <th>recommended</th>\n",
       "      <th>trip_verified</th>\n",
       "      <th>rating</th>\n",
       "      <th>seat_comfort</th>\n",
       "      <th>cabin_staff_service</th>\n",
       "      <th>food_beverages</th>\n",
       "      <th>ground_service</th>\n",
       "      <th>value_for_money</th>\n",
       "      <th>entertainment</th>\n",
       "    </tr>\n",
       "  </thead>\n",
       "  <tbody>\n",
       "    <tr>\n",
       "      <th>14</th>\n",
       "      <td>British Airways absolutely does not care</td>\n",
       "      <td>May Porter</td>\n",
       "      <td>01/09/2023</td>\n",
       "      <td>United Kingdom</td>\n",
       "      <td>British Airways absolutely does not care. My...</td>\n",
       "      <td>Boeing 777</td>\n",
       "      <td>NaN</td>\n",
       "      <td>Economy Class</td>\n",
       "      <td>Los Angeles to London</td>\n",
       "      <td>01/08/2023</td>\n",
       "      <td>no</td>\n",
       "      <td>Verified</td>\n",
       "      <td>1</td>\n",
       "      <td>1</td>\n",
       "      <td>1</td>\n",
       "      <td>1</td>\n",
       "      <td>1</td>\n",
       "      <td>1</td>\n",
       "      <td>1</td>\n",
       "    </tr>\n",
       "  </tbody>\n",
       "</table>\n",
       "</div>"
      ],
      "text/plain": [
       "                                      header      author        date  \\\n",
       "14  British Airways absolutely does not care  May Porter  01/09/2023   \n",
       "\n",
       "             place                                            content  \\\n",
       "14  United Kingdom    British Airways absolutely does not care. My...   \n",
       "\n",
       "      aircraft traveller_type      seat_type                  route  \\\n",
       "14  Boeing 777            NaN  Economy Class  Los Angeles to London   \n",
       "\n",
       "    date_flown recommended trip_verified  rating  seat_comfort  \\\n",
       "14  01/08/2023          no      Verified       1             1   \n",
       "\n",
       "    cabin_staff_service  food_beverages  ground_service  value_for_money  \\\n",
       "14                    1               1               1                1   \n",
       "\n",
       "    entertainment  \n",
       "14              1  "
      ]
     },
     "execution_count": 46,
     "metadata": {},
     "output_type": "execute_result"
    }
   ],
   "source": [
    "#Selecting rows with null values by using boolean masks is True\n",
    "ba_masks = ba_reviews.isnull().any(axis=1)\n",
    "\n",
    "ba_rows = ba_reviews[ba_masks]\n",
    "\n",
    "ba_rows"
   ]
  },
  {
   "cell_type": "code",
   "execution_count": 57,
   "id": "33efac1a",
   "metadata": {},
   "outputs": [],
   "source": [
    "#Selecting not null values for visualisation \n",
    "ba_masks = ba_reviews.notnull().all(axis=1)\n",
    "\n",
    "ba_rows_clean = ba_reviews[ba_masks]\n",
    "\n",
    "ba_clean = ba_rows_clean.reset_index(drop=True)"
   ]
  },
  {
   "cell_type": "code",
   "execution_count": 60,
   "id": "8d1e9ed5",
   "metadata": {},
   "outputs": [],
   "source": [
    "#Convert clean dataframe to csv file for Tableau visualisatoin\n",
    "ba_clean.to_csv('ba_reviews_clean.csv', index = False)"
   ]
  },
  {
   "cell_type": "markdown",
   "id": "c9721bb9",
   "metadata": {},
   "source": [
    "## Countries Comma Seperated Value"
   ]
  },
  {
   "cell_type": "code",
   "execution_count": 38,
   "id": "58194a71",
   "metadata": {},
   "outputs": [],
   "source": [
    "#Reading csv files, such as countries CSV\n",
    "\n",
    "countries = pd.read_csv(\"Countries.csv\")"
   ]
  },
  {
   "cell_type": "code",
   "execution_count": 73,
   "id": "9304abdb",
   "metadata": {},
   "outputs": [
    {
     "data": {
      "text/html": [
       "<div>\n",
       "<style scoped>\n",
       "    .dataframe tbody tr th:only-of-type {\n",
       "        vertical-align: middle;\n",
       "    }\n",
       "\n",
       "    .dataframe tbody tr th {\n",
       "        vertical-align: top;\n",
       "    }\n",
       "\n",
       "    .dataframe thead th {\n",
       "        text-align: right;\n",
       "    }\n",
       "</style>\n",
       "<table border=\"1\" class=\"dataframe\">\n",
       "  <thead>\n",
       "    <tr style=\"text-align: right;\">\n",
       "      <th></th>\n",
       "      <th>Country</th>\n",
       "      <th>Code</th>\n",
       "      <th>Continent</th>\n",
       "      <th>Region</th>\n",
       "    </tr>\n",
       "  </thead>\n",
       "  <tbody>\n",
       "    <tr>\n",
       "      <th>0</th>\n",
       "      <td>Afghanistan</td>\n",
       "      <td>AFG</td>\n",
       "      <td>Asia</td>\n",
       "      <td>Southern Asia</td>\n",
       "    </tr>\n",
       "    <tr>\n",
       "      <th>1</th>\n",
       "      <td>Åland Islands</td>\n",
       "      <td>ALA</td>\n",
       "      <td>Europe</td>\n",
       "      <td>Northern Europe</td>\n",
       "    </tr>\n",
       "    <tr>\n",
       "      <th>2</th>\n",
       "      <td>Albania</td>\n",
       "      <td>ALB</td>\n",
       "      <td>Europe</td>\n",
       "      <td>Southern Europe</td>\n",
       "    </tr>\n",
       "    <tr>\n",
       "      <th>3</th>\n",
       "      <td>Algeria</td>\n",
       "      <td>DZA</td>\n",
       "      <td>Africa</td>\n",
       "      <td>Northern Africa</td>\n",
       "    </tr>\n",
       "    <tr>\n",
       "      <th>4</th>\n",
       "      <td>American Samoa</td>\n",
       "      <td>ASM</td>\n",
       "      <td>Oceania</td>\n",
       "      <td>Polynesia</td>\n",
       "    </tr>\n",
       "    <tr>\n",
       "      <th>...</th>\n",
       "      <td>...</td>\n",
       "      <td>...</td>\n",
       "      <td>...</td>\n",
       "      <td>...</td>\n",
       "    </tr>\n",
       "    <tr>\n",
       "      <th>246</th>\n",
       "      <td>Wallis and Futuna Islands</td>\n",
       "      <td>WLF</td>\n",
       "      <td>Oceania</td>\n",
       "      <td>Polynesia</td>\n",
       "    </tr>\n",
       "    <tr>\n",
       "      <th>247</th>\n",
       "      <td>Western Sahara</td>\n",
       "      <td>ESH</td>\n",
       "      <td>Africa</td>\n",
       "      <td>Northern Africa</td>\n",
       "    </tr>\n",
       "    <tr>\n",
       "      <th>248</th>\n",
       "      <td>Yemen</td>\n",
       "      <td>YEM</td>\n",
       "      <td>Asia</td>\n",
       "      <td>Western Asia</td>\n",
       "    </tr>\n",
       "    <tr>\n",
       "      <th>249</th>\n",
       "      <td>Zambia</td>\n",
       "      <td>ZMB</td>\n",
       "      <td>Africa</td>\n",
       "      <td>Eastern Africa</td>\n",
       "    </tr>\n",
       "    <tr>\n",
       "      <th>250</th>\n",
       "      <td>Zimbabwe</td>\n",
       "      <td>ZWE</td>\n",
       "      <td>Africa</td>\n",
       "      <td>Eastern Africa</td>\n",
       "    </tr>\n",
       "  </tbody>\n",
       "</table>\n",
       "<p>251 rows × 4 columns</p>\n",
       "</div>"
      ],
      "text/plain": [
       "                       Country Code Continent           Region\n",
       "0                  Afghanistan  AFG      Asia    Southern Asia\n",
       "1                Åland Islands  ALA    Europe  Northern Europe\n",
       "2                      Albania  ALB    Europe  Southern Europe\n",
       "3                      Algeria  DZA    Africa  Northern Africa\n",
       "4               American Samoa  ASM   Oceania        Polynesia\n",
       "..                         ...  ...       ...              ...\n",
       "246  Wallis and Futuna Islands  WLF   Oceania        Polynesia\n",
       "247             Western Sahara  ESH    Africa  Northern Africa\n",
       "248                      Yemen  YEM      Asia     Western Asia\n",
       "249                     Zambia  ZMB    Africa   Eastern Africa\n",
       "250                   Zimbabwe  ZWE    Africa   Eastern Africa\n",
       "\n",
       "[251 rows x 4 columns]"
      ]
     },
     "execution_count": 73,
     "metadata": {},
     "output_type": "execute_result"
    }
   ],
   "source": [
    "countries"
   ]
  },
  {
   "cell_type": "code",
   "execution_count": 40,
   "id": "cd478f07",
   "metadata": {},
   "outputs": [
    {
     "data": {
      "text/plain": [
       "Country      0\n",
       "Code         1\n",
       "Continent    0\n",
       "Region       0\n",
       "dtype: int64"
      ]
     },
     "execution_count": 40,
     "metadata": {},
     "output_type": "execute_result"
    }
   ],
   "source": [
    "#Applying isnull() to check null values in the dataframe and using sum() to see any total value in each column.\n",
    "\n",
    "countries.isnull().sum()"
   ]
  },
  {
   "cell_type": "code",
   "execution_count": 65,
   "id": "3f92403d",
   "metadata": {},
   "outputs": [
    {
     "data": {
      "text/html": [
       "<div>\n",
       "<style scoped>\n",
       "    .dataframe tbody tr th:only-of-type {\n",
       "        vertical-align: middle;\n",
       "    }\n",
       "\n",
       "    .dataframe tbody tr th {\n",
       "        vertical-align: top;\n",
       "    }\n",
       "\n",
       "    .dataframe thead th {\n",
       "        text-align: right;\n",
       "    }\n",
       "</style>\n",
       "<table border=\"1\" class=\"dataframe\">\n",
       "  <thead>\n",
       "    <tr style=\"text-align: right;\">\n",
       "      <th></th>\n",
       "      <th>Country</th>\n",
       "      <th>Code</th>\n",
       "      <th>Continent</th>\n",
       "      <th>Region</th>\n",
       "    </tr>\n",
       "  </thead>\n",
       "  <tbody>\n",
       "    <tr>\n",
       "      <th>196</th>\n",
       "      <td>Sark</td>\n",
       "      <td>NaN</td>\n",
       "      <td>Europe</td>\n",
       "      <td>Northern Europe</td>\n",
       "    </tr>\n",
       "  </tbody>\n",
       "</table>\n",
       "</div>"
      ],
      "text/plain": [
       "    Country Code Continent           Region\n",
       "196    Sark  NaN    Europe  Northern Europe"
      ]
     },
     "execution_count": 65,
     "metadata": {},
     "output_type": "execute_result"
    }
   ],
   "source": [
    "#Selecting rows with null values by using boolean masks is True\n",
    "ct_masks = countries.isnull().any(axis=1)\n",
    "\n",
    "ct_rows = countries[ct_masks]\n",
    "\n",
    "ct_rows"
   ]
  },
  {
   "cell_type": "code",
   "execution_count": 70,
   "id": "afb9d7ea",
   "metadata": {},
   "outputs": [],
   "source": [
    "#Selecting rows with not null values by using boolean masks is True\n",
    "ct_masks = countries.notnull().all(axis=1)\n",
    "\n",
    "ct_clean_rows = countries[ct_masks]\n",
    "\n",
    "ct_clean = ct_clean_rows.reset_index(drop=True)"
   ]
  },
  {
   "cell_type": "code",
   "execution_count": 71,
   "id": "6b16ebd6",
   "metadata": {},
   "outputs": [
    {
     "data": {
      "text/html": [
       "<div>\n",
       "<style scoped>\n",
       "    .dataframe tbody tr th:only-of-type {\n",
       "        vertical-align: middle;\n",
       "    }\n",
       "\n",
       "    .dataframe tbody tr th {\n",
       "        vertical-align: top;\n",
       "    }\n",
       "\n",
       "    .dataframe thead th {\n",
       "        text-align: right;\n",
       "    }\n",
       "</style>\n",
       "<table border=\"1\" class=\"dataframe\">\n",
       "  <thead>\n",
       "    <tr style=\"text-align: right;\">\n",
       "      <th></th>\n",
       "      <th>Country</th>\n",
       "      <th>Code</th>\n",
       "      <th>Continent</th>\n",
       "      <th>Region</th>\n",
       "    </tr>\n",
       "  </thead>\n",
       "  <tbody>\n",
       "    <tr>\n",
       "      <th>0</th>\n",
       "      <td>Afghanistan</td>\n",
       "      <td>AFG</td>\n",
       "      <td>Asia</td>\n",
       "      <td>Southern Asia</td>\n",
       "    </tr>\n",
       "    <tr>\n",
       "      <th>1</th>\n",
       "      <td>Åland Islands</td>\n",
       "      <td>ALA</td>\n",
       "      <td>Europe</td>\n",
       "      <td>Northern Europe</td>\n",
       "    </tr>\n",
       "    <tr>\n",
       "      <th>2</th>\n",
       "      <td>Albania</td>\n",
       "      <td>ALB</td>\n",
       "      <td>Europe</td>\n",
       "      <td>Southern Europe</td>\n",
       "    </tr>\n",
       "    <tr>\n",
       "      <th>3</th>\n",
       "      <td>Algeria</td>\n",
       "      <td>DZA</td>\n",
       "      <td>Africa</td>\n",
       "      <td>Northern Africa</td>\n",
       "    </tr>\n",
       "    <tr>\n",
       "      <th>4</th>\n",
       "      <td>American Samoa</td>\n",
       "      <td>ASM</td>\n",
       "      <td>Oceania</td>\n",
       "      <td>Polynesia</td>\n",
       "    </tr>\n",
       "    <tr>\n",
       "      <th>...</th>\n",
       "      <td>...</td>\n",
       "      <td>...</td>\n",
       "      <td>...</td>\n",
       "      <td>...</td>\n",
       "    </tr>\n",
       "    <tr>\n",
       "      <th>245</th>\n",
       "      <td>Wallis and Futuna Islands</td>\n",
       "      <td>WLF</td>\n",
       "      <td>Oceania</td>\n",
       "      <td>Polynesia</td>\n",
       "    </tr>\n",
       "    <tr>\n",
       "      <th>246</th>\n",
       "      <td>Western Sahara</td>\n",
       "      <td>ESH</td>\n",
       "      <td>Africa</td>\n",
       "      <td>Northern Africa</td>\n",
       "    </tr>\n",
       "    <tr>\n",
       "      <th>247</th>\n",
       "      <td>Yemen</td>\n",
       "      <td>YEM</td>\n",
       "      <td>Asia</td>\n",
       "      <td>Western Asia</td>\n",
       "    </tr>\n",
       "    <tr>\n",
       "      <th>248</th>\n",
       "      <td>Zambia</td>\n",
       "      <td>ZMB</td>\n",
       "      <td>Africa</td>\n",
       "      <td>Eastern Africa</td>\n",
       "    </tr>\n",
       "    <tr>\n",
       "      <th>249</th>\n",
       "      <td>Zimbabwe</td>\n",
       "      <td>ZWE</td>\n",
       "      <td>Africa</td>\n",
       "      <td>Eastern Africa</td>\n",
       "    </tr>\n",
       "  </tbody>\n",
       "</table>\n",
       "<p>250 rows × 4 columns</p>\n",
       "</div>"
      ],
      "text/plain": [
       "                       Country Code Continent           Region\n",
       "0                  Afghanistan  AFG      Asia    Southern Asia\n",
       "1                Åland Islands  ALA    Europe  Northern Europe\n",
       "2                      Albania  ALB    Europe  Southern Europe\n",
       "3                      Algeria  DZA    Africa  Northern Africa\n",
       "4               American Samoa  ASM   Oceania        Polynesia\n",
       "..                         ...  ...       ...              ...\n",
       "245  Wallis and Futuna Islands  WLF   Oceania        Polynesia\n",
       "246             Western Sahara  ESH    Africa  Northern Africa\n",
       "247                      Yemen  YEM      Asia     Western Asia\n",
       "248                     Zambia  ZMB    Africa   Eastern Africa\n",
       "249                   Zimbabwe  ZWE    Africa   Eastern Africa\n",
       "\n",
       "[250 rows x 4 columns]"
      ]
     },
     "execution_count": 71,
     "metadata": {},
     "output_type": "execute_result"
    }
   ],
   "source": [
    "ct_clean"
   ]
  },
  {
   "cell_type": "code",
   "execution_count": 72,
   "id": "b4af8d21",
   "metadata": {},
   "outputs": [],
   "source": [
    "#Convert clean dataframe to csv file for Tableau visualisatoin\n",
    "ct_clean.to_csv(\"countries_clean.csv\", index = False)"
   ]
  }
 ],
 "metadata": {
  "kernelspec": {
   "display_name": "Python 3 (ipykernel)",
   "language": "python",
   "name": "python3"
  },
  "language_info": {
   "codemirror_mode": {
    "name": "ipython",
    "version": 3
   },
   "file_extension": ".py",
   "mimetype": "text/x-python",
   "name": "python",
   "nbconvert_exporter": "python",
   "pygments_lexer": "ipython3",
   "version": "3.11.3"
  }
 },
 "nbformat": 4,
 "nbformat_minor": 5
}
